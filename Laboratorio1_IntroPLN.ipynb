{
 "cells": [
  {
   "cell_type": "code",
   "execution_count": 1,
   "metadata": {
    "collapsed": false
   },
   "outputs": [],
   "source": [
    "import nltk\n",
    "import pandas\n",
    "import numpy as np\n",
    "from nltk.probability import FreqDist, ConditionalFreqDist\n",
    "from nltk.tokenize import RegexpTokenizer\n",
    "from nltk.classify import MaxentClassifier\n",
    "from nltk import classify\n",
    "import re"
   ]
  },
  {
   "cell_type": "markdown",
   "metadata": {},
   "source": [
    "### 1. Importamos el corpus de comentarios"
   ]
  },
  {
   "cell_type": "code",
   "execution_count": 2,
   "metadata": {
    "collapsed": false
   },
   "outputs": [],
   "source": [
    "comentarios = pandas.read_csv(\"comentarios_peliculas.csv\", skiprows=1, delimiter=';', skip_blank_lines=True, encoding='utf-8')"
   ]
  },
  {
   "cell_type": "markdown",
   "metadata": {},
   "source": [
    "### 1.1 Realizamos un breve analisis del corpus "
   ]
  },
  {
   "cell_type": "code",
   "execution_count": 3,
   "metadata": {
    "collapsed": false
   },
   "outputs": [
    {
     "name": "stdout",
     "output_type": "stream",
     "text": [
      "El corpus tiene 1447 comentarios\n",
      "Hay 859 comentarios positivos lo que equivale al  59.3%\n",
      "Hay 222 comentarios neutros lo que equivale al  15.3%\n",
      "Hay 366 comentarios negativos lo que equivale al  25.2%\n",
      "El largo de palabras promedio de los comentarios es 38\n"
     ]
    }
   ],
   "source": [
    "\n",
    "positivos = 0 \n",
    "neutros = 0\n",
    "negativos = 0\n",
    "total = str(len(comentarios))\n",
    "largo_comentario = 0\n",
    "lista_comentarios = comentarios.values.tolist()\n",
    "for x in lista_comentarios:\n",
    "    if x[7] < 3:\n",
    "        negativos += 1\n",
    "    elif x[7] == 3:\n",
    "        neutros += 1\n",
    "    else:\n",
    "        positivos += 1\n",
    "    largo_comentario += len(re.findall(r'\\w+', x[6]))\n",
    "\n",
    "\n",
    "avg_positivos = str(float(positivos)*100 / float(total))\n",
    "avg_negativos = str(float(negativos)*100 / float(total))\n",
    "avg_neutros = str(float(neutros)*100 / float(total))\n",
    "avg_largo_comentario = str(float(largo_comentario)/ float(total))\n",
    "        \n",
    "print (\"El corpus tiene \" + total + \" comentarios\")\n",
    "print (\"Hay \" + str(positivos) + \" comentarios positivos lo que equivale al  \" + avg_positivos[:4] + \"%\")\n",
    "print (\"Hay \" + str(neutros) + \" comentarios neutros lo que equivale al  \" + avg_neutros[:4] + \"%\")\n",
    "print (\"Hay \" + str(negativos) + \" comentarios negativos lo que equivale al  \" + avg_negativos[:4] + \"%\")\n",
    "print (\"El largo de palabras promedio de los comentarios es \" + avg_largo_comentario[:2])"
   ]
  },
  {
   "cell_type": "markdown",
   "metadata": {},
   "source": [
    "### 2. Separamos entrenamiento y testeo, lo pasamos a listas comunes y eliminamos datos que no utilizamos. "
   ]
  },
  {
   "cell_type": "code",
   "execution_count": 6,
   "metadata": {
    "collapsed": false
   },
   "outputs": [
    {
     "name": "stdout",
     "output_type": "stream",
     "text": [
      "El corpus de entrenamiento tiene largo 1147\n",
      "El corpus de testing tiene largo 300\n"
     ]
    }
   ],
   "source": [
    "np.random.seed(42) \n",
    "msk = np.random.rand(len(comentarios)) < 0.8\n",
    "comentarios_training= comentarios[msk] \n",
    "comentarios_testing = comentarios[~msk] \n",
    "\n",
    "lista_comentarios_training = comentarios_training.values.tolist()\n",
    "for x in lista_comentarios_training:\n",
    "    del x[8]\n",
    "    del x[5]\n",
    "    del x[4]\n",
    "    del x[3]\n",
    "    del x[2]\n",
    "    del x[1]\n",
    "    del x[0]\n",
    "print (\"El corpus de entrenamiento tiene largo \" + str(len(lista_comentarios_training)))\n",
    "lista_comentarios_testing = comentarios_testing.values.tolist()\n",
    "for x in lista_comentarios_testing:\n",
    "    del x[8]\n",
    "    del x[5]\n",
    "    del x[4]\n",
    "    del x[3]\n",
    "    del x[2]\n",
    "    del x[1]\n",
    "    del x[0]\n",
    "print (\"El corpus de testing tiene largo \" + str(len(lista_comentarios_testing)))"
   ]
  },
  {
   "cell_type": "markdown",
   "metadata": {},
   "source": [
    "### 3. Obtenemos las palabras mas comunes del corpus, quitando puntuación y stopwords del Español"
   ]
  },
  {
   "cell_type": "code",
   "execution_count": 8,
   "metadata": {
    "collapsed": false
   },
   "outputs": [
    {
     "name": "stdout",
     "output_type": "stream",
     "text": [
      "Para n = 10\n",
      "  ==> Training (2 iterations)\n",
      "\n",
      "      Iteration    Log Likelihood    Accuracy\n",
      "      ---------------------------------------\n",
      "             1          -1.09861        0.251\n",
      "         Final          -0.79943        0.597\n",
      "Para n = 20\n",
      "  ==> Training (2 iterations)\n",
      "\n",
      "      Iteration    Log Likelihood    Accuracy\n",
      "      ---------------------------------------\n",
      "             1          -1.09861        0.251\n",
      "         Final          -0.80278        0.597\n",
      "Para n = 30\n",
      "  ==> Training (2 iterations)\n",
      "\n",
      "      Iteration    Log Likelihood    Accuracy\n",
      "      ---------------------------------------\n",
      "             1          -1.09861        0.251\n",
      "         Final          -0.80538        0.597\n",
      "Para n = 40\n",
      "  ==> Training (2 iterations)\n",
      "\n",
      "      Iteration    Log Likelihood    Accuracy\n",
      "      ---------------------------------------\n",
      "             1          -1.09861        0.251\n",
      "         Final          -0.80477        0.597\n",
      "Para n = 50\n",
      "  ==> Training (2 iterations)\n",
      "\n",
      "      Iteration    Log Likelihood    Accuracy\n",
      "      ---------------------------------------\n",
      "             1          -1.09861        0.251\n",
      "         Final          -0.80581        0.597\n",
      "Para n = 60\n",
      "  ==> Training (2 iterations)\n",
      "\n",
      "      Iteration    Log Likelihood    Accuracy\n",
      "      ---------------------------------------\n",
      "             1          -1.09861        0.251\n",
      "         Final          -0.80704        0.597\n",
      "Para n = 70\n",
      "  ==> Training (2 iterations)\n",
      "\n",
      "      Iteration    Log Likelihood    Accuracy\n",
      "      ---------------------------------------\n",
      "             1          -1.09861        0.251\n",
      "         Final          -0.80760        0.597\n",
      "Para n = 80\n",
      "  ==> Training (2 iterations)\n",
      "\n",
      "      Iteration    Log Likelihood    Accuracy\n",
      "      ---------------------------------------\n",
      "             1          -1.09861        0.251\n",
      "         Final          -0.80769        0.597\n",
      "Para n = 90\n",
      "  ==> Training (2 iterations)\n",
      "\n",
      "      Iteration    Log Likelihood    Accuracy\n",
      "      ---------------------------------------\n",
      "             1          -1.09861        0.251\n",
      "         Final          -0.80801        0.597\n",
      "Para n = 100\n",
      "  ==> Training (2 iterations)\n",
      "\n",
      "      Iteration    Log Likelihood    Accuracy\n",
      "      ---------------------------------------\n",
      "             1          -1.09861        0.251\n",
      "         Final          -0.80842        0.597\n"
     ]
    }
   ],
   "source": [
    "def word_feats(commentWords):\n",
    "    commentWords = tokenizer.tokenize(commentWords)\n",
    "    return dict([(word[0], word[0] in commentWords) for word in palabras_features])\n",
    "\n",
    "def classification(value):\n",
    "    if value > 3:\n",
    "        classification = \"negative\"\n",
    "    elif value == 3:\n",
    "        classification = \"neutro\"\n",
    "    else:\n",
    "        classification = \"positive\"\n",
    "    return classification\n",
    "\n",
    "textoComentariosTraining = \"\"\n",
    "for x in lista_comentarios_training:\n",
    "    textoComentariosTraining += \" \" + x[0].lower()\n",
    "\n",
    "tokenizer = RegexpTokenizer(r'\\w+')\n",
    "corpus_text = tokenizer.tokenize(textoComentariosTraining) \n",
    "stopwordsEspanol = nltk.corpus.stopwords.words('spanish')\n",
    "stopwordsEspanol.remove(\"no\")\n",
    "stopwordsEspanol.remove(\"sí\")\n",
    "palabrasMasComunes = FreqDist(w.lower() for w in corpus_text if w not in stopwordsEspanol)\n",
    "listaValores = [10,20,30,40,50,60,70,80,90,100]\n",
    "for i in listaValores:\n",
    "    s = \"Para n =\"\n",
    "    print (\"Para n =\",i)\n",
    "    palabras_features = palabrasMasComunes.most_common(i)\n",
    "\n",
    "    array_for_training = [(word_feats(f[0]), classification(f[1])) for f in lista_comentarios_training]\n",
    "    classifier = MaxentClassifier.train(array_for_training, max_iter=2)\n",
    "    array_for_test_comments = [(word_feats(f[0])) for f in lista_comentarios_testing]\n",
    "    array_for_test = [(word_feats(f[0]), classification(f[1])) for f in lista_comentarios_testing]\n",
    "\n",
    "    classify.accuracy(classifier,array_for_test)\n",
    "    "
   ]
  },
  {
   "cell_type": "code",
   "execution_count": null,
   "metadata": {
    "collapsed": true
   },
   "outputs": [],
   "source": []
  }
 ],
 "metadata": {
  "kernelspec": {
   "display_name": "Python 3",
   "language": "python",
   "name": "python3"
  },
  "language_info": {
   "codemirror_mode": {
    "name": "ipython",
    "version": 3
   },
   "file_extension": ".py",
   "mimetype": "text/x-python",
   "name": "python",
   "nbconvert_exporter": "python",
   "pygments_lexer": "ipython3",
   "version": "3.4.3"
  }
 },
 "nbformat": 4,
 "nbformat_minor": 0
}
