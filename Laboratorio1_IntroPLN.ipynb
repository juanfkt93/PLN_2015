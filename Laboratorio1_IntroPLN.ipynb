{
 "cells": [
  {
   "cell_type": "code",
   "execution_count": 2,
   "metadata": {
    "collapsed": false
   },
   "outputs": [],
   "source": [
    "import nltk\n",
    "import pandas\n",
    "import numpy as np\n",
    "from nltk.probability import FreqDist, ConditionalFreqDist\n",
    "from nltk.tokenize import RegexpTokenizer\n",
    "from nltk.classify import MaxentClassifier\n",
    "from nltk import classify\n",
    "import re"
   ]
  },
  {
   "cell_type": "markdown",
   "metadata": {},
   "source": [
    "### 1. Importamos el corpus de comentarios"
   ]
  },
  {
   "cell_type": "code",
   "execution_count": 3,
   "metadata": {
    "collapsed": false
   },
   "outputs": [],
   "source": [
    "comentarios = pandas.read_csv(\"comentarios_peliculas.csv\", skiprows=1, delimiter=';', skip_blank_lines=True, encoding='utf-8')"
   ]
  },
  {
   "cell_type": "markdown",
   "metadata": {},
   "source": [
    "### 1.1 Realizamos un breve analisis del corpus "
   ]
  },
  {
   "cell_type": "code",
   "execution_count": 4,
   "metadata": {
    "collapsed": false
   },
   "outputs": [
    {
     "name": "stdout",
     "output_type": "stream",
     "text": [
      "El corpus tiene 1447 comentarios\n",
      "Hay 859 comentarios positivos lo que equivale al  59.3%\n",
      "Hay 222 comentarios neutros lo que equivale al  15.3%\n",
      "Hay 366 comentarios negativos lo que equivale al  25.2%\n",
      "El largo de palabras promedio de los comentarios es 38\n"
     ]
    }
   ],
   "source": [
    "\n",
    "positivos = 0 \n",
    "neutros = 0\n",
    "negativos = 0\n",
    "total = str(len(comentarios))\n",
    "largo_comentario = 0\n",
    "lista_comentarios = comentarios.values.tolist()\n",
    "for x in lista_comentarios:\n",
    "    if x[7] < 3:\n",
    "        negativos += 1\n",
    "    elif x[7] == 3:\n",
    "        neutros += 1\n",
    "    else:\n",
    "        positivos += 1\n",
    "    largo_comentario += len(re.findall(r'\\w+', x[6]))\n",
    "\n",
    "\n",
    "avg_positivos = str(float(positivos)*100 / float(total))\n",
    "avg_negativos = str(float(negativos)*100 / float(total))\n",
    "avg_neutros = str(float(neutros)*100 / float(total))\n",
    "avg_largo_comentario = str(float(largo_comentario)/ float(total))\n",
    "        \n",
    "print (\"El corpus tiene \" + total + \" comentarios\")\n",
    "print (\"Hay \" + str(positivos) + \" comentarios positivos lo que equivale al  \" + avg_positivos[:4] + \"%\")\n",
    "print (\"Hay \" + str(neutros) + \" comentarios neutros lo que equivale al  \" + avg_neutros[:4] + \"%\")\n",
    "print (\"Hay \" + str(negativos) + \" comentarios negativos lo que equivale al  \" + avg_negativos[:4] + \"%\")\n",
    "print (\"El largo de palabras promedio de los comentarios es \" + avg_largo_comentario[:2])"
   ]
  },
  {
   "cell_type": "markdown",
   "metadata": {},
   "source": [
    "### 2. Separamos entrenamiento y testeo, lo pasamos a listas comunes y eliminamos datos que no utilizamos. "
   ]
  },
  {
   "cell_type": "code",
   "execution_count": 5,
   "metadata": {
    "collapsed": false
   },
   "outputs": [
    {
     "name": "stdout",
     "output_type": "stream",
     "text": [
      "El corpus de entrenamiento tiene largo 1147\n",
      "El corpus de testing tiene largo 300\n"
     ]
    }
   ],
   "source": [
    "np.random.seed(42) \n",
    "msk = np.random.rand(len(comentarios)) < 0.8\n",
    "comentarios_training= comentarios[msk] \n",
    "comentarios_testing = comentarios[~msk] \n",
    "\n",
    "lista_comentarios_training = comentarios_training.values.tolist()\n",
    "for x in lista_comentarios_training:\n",
    "    del x[8]\n",
    "    del x[5]\n",
    "    del x[4]\n",
    "    del x[3]\n",
    "    del x[2]\n",
    "    del x[1]\n",
    "    del x[0]\n",
    "print (\"El corpus de entrenamiento tiene largo \" + str(len(lista_comentarios_training)))\n",
    "lista_comentarios_testing = comentarios_testing.values.tolist()\n",
    "for x in lista_comentarios_testing:\n",
    "    del x[8]\n",
    "    del x[5]\n",
    "    del x[4]\n",
    "    del x[3]\n",
    "    del x[2]\n",
    "    del x[1]\n",
    "    del x[0]\n",
    "print (\"El corpus de testing tiene largo \" + str(len(lista_comentarios_testing)))"
   ]
  },
  {
   "cell_type": "markdown",
   "metadata": {},
   "source": [
    "### 3. Obtenemos las palabras mas comunes del corpus, quitando puntuación y stopwords del Español"
   ]
  },
  {
   "cell_type": "code",
   "execution_count": 6,
   "metadata": {
    "collapsed": false
   },
   "outputs": [
    {
     "name": "stdout",
     "output_type": "stream",
     "text": [
      "Para n = 10\n",
      "  ==> Training (10 iterations)\n",
      "\n",
      "      Iteration    Log Likelihood    Accuracy\n",
      "      ---------------------------------------\n",
      "             1          -1.09861        0.251\n",
      "             2          -0.79943        0.597\n",
      "             3          -0.78879        0.597\n",
      "             4          -0.77962        0.597\n",
      "             5          -0.77172        0.597\n",
      "             6          -0.76490        0.597\n",
      "             7          -0.75899        0.598\n",
      "             8          -0.75385        0.594\n",
      "             9          -0.74935        0.595\n",
      "         Final          -0.74541        0.597\n",
      "Para n = 20\n",
      "  ==> Training (10 iterations)\n",
      "\n",
      "      Iteration    Log Likelihood    Accuracy\n",
      "      ---------------------------------------\n",
      "             1          -1.09861        0.251\n",
      "             2          -0.80278        0.597\n",
      "             3          -0.79387        0.597\n",
      "             4          -0.78565        0.597\n",
      "             5          -0.77810        0.597\n",
      "             6          -0.77115        0.597\n",
      "             7          -0.76477        0.597\n",
      "             8          -0.75890        0.597\n",
      "             9          -0.75350        0.597\n",
      "         Final          -0.74852        0.598\n",
      "Para n = 30\n",
      "  ==> Training (10 iterations)\n",
      "\n",
      "      Iteration    Log Likelihood    Accuracy\n",
      "      ---------------------------------------\n",
      "             1          -1.09861        0.251\n",
      "             2          -0.80485        0.597\n",
      "             3          -0.79738        0.597\n",
      "             4          -0.79032        0.597\n",
      "             5          -0.78364        0.597\n",
      "             6          -0.77734        0.597\n",
      "             7          -0.77139        0.597\n",
      "             8          -0.76579        0.597\n",
      "             9          -0.76050        0.597\n",
      "         Final          -0.75552        0.597\n",
      "Para n = 40\n",
      "  ==> Training (10 iterations)\n",
      "\n",
      "      Iteration    Log Likelihood    Accuracy\n",
      "      ---------------------------------------\n",
      "             1          -1.09861        0.251\n",
      "             2          -0.80477        0.597\n",
      "             3          -0.79668        0.597\n",
      "             4          -0.78891        0.597\n",
      "             5          -0.78146        0.597\n",
      "             6          -0.77434        0.597\n",
      "             7          -0.76755        0.599\n",
      "             8          -0.76106        0.601\n",
      "             9          -0.75488        0.607\n",
      "         Final          -0.74899        0.612\n",
      "Para n = 50\n",
      "  ==> Training (10 iterations)\n",
      "\n",
      "      Iteration    Log Likelihood    Accuracy\n",
      "      ---------------------------------------\n",
      "             1          -1.09861        0.251\n",
      "             2          -0.80581        0.597\n",
      "             3          -0.79852        0.597\n",
      "             4          -0.79147        0.597\n",
      "             5          -0.78467        0.597\n",
      "             6          -0.77812        0.597\n",
      "             7          -0.77182        0.597\n",
      "             8          -0.76576        0.599\n",
      "             9          -0.75995        0.601\n",
      "         Final          -0.75436        0.602\n",
      "Para n = 60\n",
      "  ==> Training (10 iterations)\n",
      "\n",
      "      Iteration    Log Likelihood    Accuracy\n",
      "      ---------------------------------------\n",
      "             1          -1.09861        0.251\n",
      "             2          -0.80704        0.597\n",
      "             3          -0.80070        0.597\n",
      "             4          -0.79455        0.597\n",
      "             5          -0.78858        0.597\n",
      "             6          -0.78281        0.597\n",
      "             7          -0.77722        0.597\n",
      "             8          -0.77181        0.599\n",
      "             9          -0.76659        0.599\n",
      "         Final          -0.76155        0.601\n",
      "Para n = 70\n",
      "  ==> Training (10 iterations)\n",
      "\n",
      "      Iteration    Log Likelihood    Accuracy\n",
      "      ---------------------------------------\n",
      "             1          -1.09861        0.251\n",
      "             2          -0.80759        0.597\n",
      "             3          -0.80166        0.597\n",
      "             4          -0.79590        0.597\n",
      "             5          -0.79030        0.597\n",
      "             6          -0.78486        0.597\n",
      "             7          -0.77958        0.597\n",
      "             8          -0.77446        0.598\n",
      "             9          -0.76951        0.598\n",
      "         Final          -0.76471        0.599\n",
      "Para n = 80\n",
      "  ==> Training (10 iterations)\n",
      "\n",
      "      Iteration    Log Likelihood    Accuracy\n",
      "      ---------------------------------------\n",
      "             1          -1.09861        0.251\n",
      "             2          -0.80769        0.597\n",
      "             3          -0.80188        0.597\n",
      "             4          -0.79621        0.597\n",
      "             5          -0.79068        0.597\n",
      "             6          -0.78529        0.597\n",
      "             7          -0.78005        0.597\n",
      "             8          -0.77494        0.597\n",
      "             9          -0.76998        0.598\n",
      "         Final          -0.76515        0.598\n",
      "Para n = 90\n",
      "  ==> Training (10 iterations)\n",
      "\n",
      "      Iteration    Log Likelihood    Accuracy\n",
      "      ---------------------------------------\n",
      "             1          -1.09861        0.251\n",
      "             2          -0.80801        0.597\n",
      "             3          -0.80233        0.597\n",
      "             4          -0.79677        0.597\n",
      "             5          -0.79134        0.597\n",
      "             6          -0.78604        0.597\n",
      "             7          -0.78088        0.597\n",
      "             8          -0.77584        0.597\n",
      "             9          -0.77093        0.598\n",
      "         Final          -0.76616        0.598\n",
      "Para n = 100\n",
      "  ==> Training (10 iterations)\n",
      "\n",
      "      Iteration    Log Likelihood    Accuracy\n",
      "      ---------------------------------------\n",
      "             1          -1.09861        0.251\n",
      "             2          -0.80842        0.597\n",
      "             3          -0.80308        0.597\n",
      "             4          -0.79786        0.597\n",
      "             5          -0.79274        0.597\n",
      "             6          -0.78773        0.597\n",
      "             7          -0.78284        0.597\n",
      "             8          -0.77806        0.597\n",
      "             9          -0.77340        0.598\n",
      "         Final          -0.76885        0.598\n",
      "[0.5833333333333334, 0.5766666666666667, 0.58, 0.59, 0.5833333333333334, 0.5833333333333334, 0.5833333333333334, 0.58, 0.58, 0.58]\n"
     ]
    }
   ],
   "source": [
    "def word_feats(commentWords):\n",
    "    commentWords = tokenizer.tokenize(commentWords)\n",
    "    return dict([(word[0], word[0] in commentWords) for word in palabras_features])\n",
    "\n",
    "def classification(value):\n",
    "    if value > 3:\n",
    "        classification = \"negative\"\n",
    "    elif value == 3:\n",
    "        classification = \"neutro\"\n",
    "    else:\n",
    "        classification = \"positive\"\n",
    "    return classification\n",
    "\n",
    "textoComentariosTraining = \"\"\n",
    "for x in lista_comentarios_training:\n",
    "    textoComentariosTraining += \" \" + x[0].lower()\n",
    "\n",
    "tokenizer = RegexpTokenizer(r'\\w+')\n",
    "corpus_text = tokenizer.tokenize(textoComentariosTraining) \n",
    "stopwordsEspanol = nltk.corpus.stopwords.words('spanish')\n",
    "stopwordsEspanol.remove(\"no\")\n",
    "stopwordsEspanol.remove(\"sí\")\n",
    "palabrasMasComunes = FreqDist(w.lower() for w in corpus_text if w not in stopwordsEspanol)\n",
    "listaValores = [10,20,30,40,50,60,70,80,90,100]\n",
    "listaAccuracy = []\n",
    "for i in listaValores:\n",
    "    print (\"Para n =\",i)\n",
    "    palabras_features = palabrasMasComunes.most_common(i)\n",
    "    array_for_training = [(word_feats(f[0]), classification(f[1])) for f in lista_comentarios_training]\n",
    "    classifier = MaxentClassifier.train(array_for_training, max_iter=10)\n",
    "    array_for_test = [(word_feats(f[0]), classification(f[1])) for f in lista_comentarios_testing]\n",
    "    accuracy = classify.accuracy(classifier,array_for_test)\n",
    "    listaAccuracy.append(accuracy)\n",
    "    \n",
    "print(listaAccuracy)\n",
    "    "
   ]
  },
  {
   "cell_type": "code",
   "execution_count": null,
   "metadata": {
    "collapsed": true
   },
   "outputs": [],
   "source": []
  }
 ],
 "metadata": {
  "kernelspec": {
   "display_name": "Python 3",
   "language": "python",
   "name": "python3"
  },
  "language_info": {
   "codemirror_mode": {
    "name": "ipython",
    "version": 3
   },
   "file_extension": ".py",
   "mimetype": "text/x-python",
   "name": "python",
   "nbconvert_exporter": "python",
   "pygments_lexer": "ipython3",
   "version": "3.4.3"
  }
 },
 "nbformat": 4,
 "nbformat_minor": 0
}
