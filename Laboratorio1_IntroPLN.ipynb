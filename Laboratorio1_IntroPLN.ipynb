{
 "cells": [
  {
   "cell_type": "code",
   "execution_count": 1,
   "metadata": {
    "collapsed": false
   },
   "outputs": [],
   "source": [
    "import nltk\n",
    "import pandas\n",
    "import numpy as np\n",
    "from nltk.probability import FreqDist, ConditionalFreqDist\n",
    "from nltk.tokenize import RegexpTokenizer\n",
    "from nltk.classify import MaxentClassifier\n",
    "from nltk import classify\n",
    "import re\n",
    "import codecs"
   ]
  },
  {
   "cell_type": "markdown",
   "metadata": {},
   "source": [
    "### 1. Importamos el corpus de comentarios"
   ]
  },
  {
   "cell_type": "code",
   "execution_count": 2,
   "metadata": {
    "collapsed": false
   },
   "outputs": [],
   "source": [
    "comentarios = pandas.read_csv(\"comentarios_peliculas.csv\", skiprows=1, delimiter=';', skip_blank_lines=True, encoding='utf-8')"
   ]
  },
  {
   "cell_type": "markdown",
   "metadata": {},
   "source": [
    "### 1.1 Realizamos un breve analisis del corpus "
   ]
  },
  {
   "cell_type": "code",
   "execution_count": 3,
   "metadata": {
    "collapsed": false
   },
   "outputs": [
    {
     "name": "stdout",
     "output_type": "stream",
     "text": [
      "El corpus tiene 1447 comentarios\n",
      "Hay 859 comentarios positivos lo que equivale al  59.3%\n",
      "Hay 222 comentarios neutros lo que equivale al  15.3%\n",
      "Hay 366 comentarios negativos lo que equivale al  25.2%\n",
      "El largo de palabras promedio de los comentarios es 38\n"
     ]
    }
   ],
   "source": [
    "\n",
    "positivos = 0 \n",
    "neutros = 0\n",
    "negativos = 0\n",
    "total = str(len(comentarios))\n",
    "largo_comentario = 0\n",
    "lista_comentarios = comentarios.values.tolist()\n",
    "for x in lista_comentarios:\n",
    "    if x[7] < 3:\n",
    "        negativos += 1\n",
    "    elif x[7] == 3:\n",
    "        neutros += 1\n",
    "    else:\n",
    "        positivos += 1\n",
    "    largo_comentario += len(re.findall(r'\\w+', x[6]))\n",
    "\n",
    "\n",
    "avg_positivos = str(float(positivos)*100 / float(total))\n",
    "avg_negativos = str(float(negativos)*100 / float(total))\n",
    "avg_neutros = str(float(neutros)*100 / float(total))\n",
    "avg_largo_comentario = str(float(largo_comentario)/ float(total))\n",
    "        \n",
    "print (\"El corpus tiene \" + total + \" comentarios\")\n",
    "print (\"Hay \" + str(positivos) + \" comentarios positivos lo que equivale al  \" + avg_positivos[:4] + \"%\")\n",
    "print (\"Hay \" + str(neutros) + \" comentarios neutros lo que equivale al  \" + avg_neutros[:4] + \"%\")\n",
    "print (\"Hay \" + str(negativos) + \" comentarios negativos lo que equivale al  \" + avg_negativos[:4] + \"%\")\n",
    "print (\"El largo de palabras promedio de los comentarios es \" + avg_largo_comentario[:2])"
   ]
  },
  {
   "cell_type": "markdown",
   "metadata": {},
   "source": [
    "### 2. Separamos entrenamiento y testeo, lo pasamos a listas comunes y eliminamos datos que no utilizamos. "
   ]
  },
  {
   "cell_type": "code",
   "execution_count": 4,
   "metadata": {
    "collapsed": false
   },
   "outputs": [
    {
     "name": "stdout",
     "output_type": "stream",
     "text": [
      "El corpus de entrenamiento tiene largo 1147\n",
      "El corpus de testing tiene largo 300\n"
     ]
    }
   ],
   "source": [
    "np.random.seed(42) \n",
    "msk = np.random.rand(len(comentarios)) < 0.8\n",
    "comentarios_training= comentarios[msk] \n",
    "comentarios_testing = comentarios[~msk] \n",
    "\n",
    "lista_comentarios_training = comentarios_training.values.tolist()\n",
    "for x in lista_comentarios_training:\n",
    "    del x[8]\n",
    "    del x[5]\n",
    "    del x[4]\n",
    "    del x[3]\n",
    "    del x[2]\n",
    "    del x[1]\n",
    "    del x[0]\n",
    "print (\"El corpus de entrenamiento tiene largo \" + str(len(lista_comentarios_training)))\n",
    "lista_comentarios_testing = comentarios_testing.values.tolist()\n",
    "for x in lista_comentarios_testing:\n",
    "    del x[8]\n",
    "    del x[5]\n",
    "    del x[4]\n",
    "    del x[3]\n",
    "    del x[2]\n",
    "    del x[1]\n",
    "    del x[0]\n",
    "print (\"El corpus de testing tiene largo \" + str(len(lista_comentarios_testing)))"
   ]
  },
  {
   "cell_type": "markdown",
   "metadata": {},
   "source": [
    "### 3. Obtenemos las palabras mas comunes del corpus, quitando puntuación y stopwords del Español"
   ]
  },
  {
   "cell_type": "code",
   "execution_count": 5,
   "metadata": {
    "collapsed": false
   },
   "outputs": [
    {
     "name": "stdout",
     "output_type": "stream",
     "text": [
      "Para n = 10\n",
      "  ==> Training (10 iterations)\n",
      "\n",
      "      Iteration    Log Likelihood    Accuracy\n",
      "      ---------------------------------------\n",
      "             1          -1.09861        0.251\n",
      "             2          -0.79943        0.597\n",
      "             3          -0.78879        0.597\n",
      "             4          -0.77962        0.597\n",
      "             5          -0.77172        0.597\n",
      "             6          -0.76490        0.597\n",
      "             7          -0.75899        0.598\n",
      "             8          -0.75385        0.594\n",
      "             9          -0.74935        0.595\n",
      "         Final          -0.74541        0.597\n",
      "[0.5833333333333334]\n"
     ]
    }
   ],
   "source": [
    "def word_feats(commentWords):\n",
    "    commentWords = tokenizer.tokenize(commentWords)\n",
    "    return dict([(word[0], word[0] in commentWords) for word in palabras_features])\n",
    "\n",
    "def classification(value):\n",
    "    if value > 3:\n",
    "        classification = \"negative\"\n",
    "    elif value == 3:\n",
    "        classification = \"neutro\"\n",
    "    else:\n",
    "        classification = \"positive\"\n",
    "    return classification\n",
    "\n",
    "textoComentariosTraining = \"\"\n",
    "for x in lista_comentarios_training:\n",
    "    textoComentariosTraining += \" \" + x[0].lower()\n",
    "\n",
    "tokenizer = RegexpTokenizer(r'\\w+')\n",
    "corpus_text = tokenizer.tokenize(textoComentariosTraining) \n",
    "stopwordsEspanol = nltk.corpus.stopwords.words('spanish')\n",
    "stopwordsEspanol.remove(\"no\")\n",
    "stopwordsEspanol.remove(\"sí\")\n",
    "palabrasMasComunes = FreqDist(w.lower() for w in corpus_text if w not in stopwordsEspanol)\n",
    "#listaValores = [10,20,30,40,50,60,70,80,90,100]\n",
    "listaValores = [10]\n",
    "listaAccuracy = []\n",
    "for i in listaValores:\n",
    "    print (\"Para n =\",i)\n",
    "    palabras_features = palabrasMasComunes.most_common(i)\n",
    "    array_for_training = [(word_feats(f[0]), classification(f[1])) for f in lista_comentarios_training]\n",
    "    classifier = MaxentClassifier.train(array_for_training, max_iter=10)\n",
    "    array_for_test = [(word_feats(f[0]), classification(f[1])) for f in lista_comentarios_testing]\n",
    "    accuracy = classify.accuracy(classifier,array_for_test)\n",
    "    listaAccuracy.append(accuracy)\n",
    "    \n",
    "print(listaAccuracy)\n",
    "    "
   ]
  },
  {
   "cell_type": "code",
   "execution_count": 93,
   "metadata": {
    "collapsed": false
   },
   "outputs": [
    {
     "ename": "TypeError",
     "evalue": "dict expected at most 1 arguments, got 2",
     "output_type": "error",
     "traceback": [
      "\u001b[1;31m---------------------------------------------------------------------------\u001b[0m",
      "\u001b[1;31mTypeError\u001b[0m                                 Traceback (most recent call last)",
      "\u001b[1;32m<ipython-input-93-49682577b0ff>\u001b[0m in \u001b[0;36m<module>\u001b[1;34m()\u001b[0m\n\u001b[0;32m     45\u001b[0m \u001b[1;33m\u001b[0m\u001b[0m\n\u001b[0;32m     46\u001b[0m \u001b[0mpalabras_features\u001b[0m \u001b[1;33m=\u001b[0m \u001b[0mpalabrasMasComunes\u001b[0m\u001b[1;33m.\u001b[0m\u001b[0mmost_common\u001b[0m\u001b[1;33m(\u001b[0m\u001b[1;36m40\u001b[0m\u001b[1;33m)\u001b[0m\u001b[1;33m\u001b[0m\u001b[0m\n\u001b[1;32m---> 47\u001b[1;33m \u001b[0marray_for_training\u001b[0m \u001b[1;33m=\u001b[0m \u001b[1;33m[\u001b[0m\u001b[1;33m(\u001b[0m\u001b[0mword_feats_elementosSubjetivo\u001b[0m\u001b[1;33m(\u001b[0m\u001b[0mf\u001b[0m\u001b[1;33m[\u001b[0m\u001b[1;36m0\u001b[0m\u001b[1;33m]\u001b[0m\u001b[1;33m)\u001b[0m\u001b[1;33m,\u001b[0m \u001b[0mclassification\u001b[0m\u001b[1;33m(\u001b[0m\u001b[0mf\u001b[0m\u001b[1;33m[\u001b[0m\u001b[1;36m1\u001b[0m\u001b[1;33m]\u001b[0m\u001b[1;33m)\u001b[0m\u001b[1;33m)\u001b[0m \u001b[1;32mfor\u001b[0m \u001b[0mf\u001b[0m \u001b[1;32min\u001b[0m \u001b[0mlista_comentarios_training\u001b[0m\u001b[1;33m]\u001b[0m\u001b[1;33m\u001b[0m\u001b[0m\n\u001b[0m\u001b[0;32m     48\u001b[0m \u001b[1;31m#classifier = MaxentClassifier.train(array_for_training, max_iter=10)\u001b[0m\u001b[1;33m\u001b[0m\u001b[1;33m\u001b[0m\u001b[0m\n\u001b[0;32m     49\u001b[0m \u001b[0mprint\u001b[0m \u001b[1;33m(\u001b[0m\u001b[0marray_for_training\u001b[0m\u001b[1;33m)\u001b[0m\u001b[1;33m\u001b[0m\u001b[0m\n",
      "\u001b[1;32m<ipython-input-93-49682577b0ff>\u001b[0m in \u001b[0;36m<listcomp>\u001b[1;34m(.0)\u001b[0m\n\u001b[0;32m     45\u001b[0m \u001b[1;33m\u001b[0m\u001b[0m\n\u001b[0;32m     46\u001b[0m \u001b[0mpalabras_features\u001b[0m \u001b[1;33m=\u001b[0m \u001b[0mpalabrasMasComunes\u001b[0m\u001b[1;33m.\u001b[0m\u001b[0mmost_common\u001b[0m\u001b[1;33m(\u001b[0m\u001b[1;36m40\u001b[0m\u001b[1;33m)\u001b[0m\u001b[1;33m\u001b[0m\u001b[0m\n\u001b[1;32m---> 47\u001b[1;33m \u001b[0marray_for_training\u001b[0m \u001b[1;33m=\u001b[0m \u001b[1;33m[\u001b[0m\u001b[1;33m(\u001b[0m\u001b[0mword_feats_elementosSubjetivo\u001b[0m\u001b[1;33m(\u001b[0m\u001b[0mf\u001b[0m\u001b[1;33m[\u001b[0m\u001b[1;36m0\u001b[0m\u001b[1;33m]\u001b[0m\u001b[1;33m)\u001b[0m\u001b[1;33m,\u001b[0m \u001b[0mclassification\u001b[0m\u001b[1;33m(\u001b[0m\u001b[0mf\u001b[0m\u001b[1;33m[\u001b[0m\u001b[1;36m1\u001b[0m\u001b[1;33m]\u001b[0m\u001b[1;33m)\u001b[0m\u001b[1;33m)\u001b[0m \u001b[1;32mfor\u001b[0m \u001b[0mf\u001b[0m \u001b[1;32min\u001b[0m \u001b[0mlista_comentarios_training\u001b[0m\u001b[1;33m]\u001b[0m\u001b[1;33m\u001b[0m\u001b[0m\n\u001b[0m\u001b[0;32m     48\u001b[0m \u001b[1;31m#classifier = MaxentClassifier.train(array_for_training, max_iter=10)\u001b[0m\u001b[1;33m\u001b[0m\u001b[1;33m\u001b[0m\u001b[0m\n\u001b[0;32m     49\u001b[0m \u001b[0mprint\u001b[0m \u001b[1;33m(\u001b[0m\u001b[0marray_for_training\u001b[0m\u001b[1;33m)\u001b[0m\u001b[1;33m\u001b[0m\u001b[0m\n",
      "\u001b[1;32m<ipython-input-93-49682577b0ff>\u001b[0m in \u001b[0;36mword_feats_elementosSubjetivo\u001b[1;34m(commentWords)\u001b[0m\n\u001b[0;32m      2\u001b[0m     \u001b[0mcommentWords\u001b[0m \u001b[1;33m=\u001b[0m \u001b[0mtokenizer\u001b[0m\u001b[1;33m.\u001b[0m\u001b[0mtokenize\u001b[0m\u001b[1;33m(\u001b[0m\u001b[0mcommentWords\u001b[0m\u001b[1;33m)\u001b[0m\u001b[1;33m\u001b[0m\u001b[0m\n\u001b[0;32m      3\u001b[0m     \u001b[0mvalor\u001b[0m \u001b[1;33m=\u001b[0m \u001b[0mvalor_comentario_elementoSubjetivo\u001b[0m\u001b[1;33m(\u001b[0m\u001b[0mcommentWords\u001b[0m\u001b[1;33m)\u001b[0m\u001b[1;33m\u001b[0m\u001b[0m\n\u001b[1;32m----> 4\u001b[1;33m     \u001b[1;32mreturn\u001b[0m \u001b[0mdict\u001b[0m\u001b[1;33m(\u001b[0m\u001b[1;33m[\u001b[0m\u001b[1;33m(\u001b[0m\u001b[0mword\u001b[0m\u001b[1;33m[\u001b[0m\u001b[1;36m0\u001b[0m\u001b[1;33m]\u001b[0m\u001b[1;33m,\u001b[0m \u001b[0mword\u001b[0m\u001b[1;33m[\u001b[0m\u001b[1;36m0\u001b[0m\u001b[1;33m]\u001b[0m \u001b[1;32min\u001b[0m \u001b[0mcommentWords\u001b[0m\u001b[1;33m)\u001b[0m \u001b[1;32mfor\u001b[0m \u001b[0mword\u001b[0m \u001b[1;32min\u001b[0m \u001b[0mpalabras_features\u001b[0m\u001b[1;33m]\u001b[0m\u001b[1;33m,\u001b[0m\u001b[1;33m[\u001b[0m\u001b[1;33m(\u001b[0m\u001b[1;34m\"Valor\"\u001b[0m\u001b[1;33m,\u001b[0m\u001b[0mvalor\u001b[0m\u001b[1;33m)\u001b[0m\u001b[1;33m]\u001b[0m \u001b[1;33m)\u001b[0m\u001b[1;33m\u001b[0m\u001b[0m\n\u001b[0m\u001b[0;32m      5\u001b[0m \u001b[1;33m\u001b[0m\u001b[0m\n\u001b[0;32m      6\u001b[0m \u001b[1;33m\u001b[0m\u001b[0m\n",
      "\u001b[1;31mTypeError\u001b[0m: dict expected at most 1 arguments, got 2"
     ]
    }
   ],
   "source": [
    "def word_feats_elementosSubjetivo(commentWords):\n",
    "    commentWords = tokenizer.tokenize(commentWords)\n",
    "    valor = valor_comentario_elementoSubjetivo(commentWords)\n",
    "    return dict([(word[0], word[0] in commentWords) for word in palabras_features])\n",
    "\n",
    "\n",
    "def valor_comentario_elementoSubjetivo(commentWords):\n",
    "    suma = 0\n",
    "    #print (elementos_subjetivos_positivos)\n",
    "    for word in commentWords:\n",
    "        if word in elementos_subjetivos_positivos:            \n",
    "            suma += 1\n",
    "        elif word in elementos_subjetivos_negativos:\n",
    "            suma -= 1        \n",
    "    if suma > 0:\n",
    "        return 1\n",
    "    elif suma < 0:\n",
    "        return -1\n",
    "    else:\n",
    "        return 0    \n",
    "\n",
    "def get_valor(linea):\n",
    "    q = re.sub('\\(\\'.*\\'\\,','',linea)\n",
    "    r = re.sub('\\)','',q)\n",
    "    return r\n",
    "\n",
    "def get_palabra(linea):\n",
    "    q = re.sub('\\(\\'','',linea)\n",
    "    r = re.sub('\\'\\,.*\\)','',q)\n",
    "    return r\n",
    "\n",
    "elementos_subjetivos_positivos = []\n",
    "elementos_subjetivos_negativos = []\n",
    "with codecs.open('elementos_subjetivos.txt','r',encoding='utf8') as f:\n",
    "    lines = f.read().splitlines()\n",
    "    for l in lines:\n",
    "        if \"elementoSubjetivo\" in l and \"%\" not in l:\n",
    "            p = re.sub('elementoSubjetivo','',l)\n",
    "            q = re.sub('\\.','',p)\n",
    "            if get_valor(q) == \"3\":\n",
    "                elementos_subjetivos_positivos.append(get_palabra(q))\n",
    "            else:\n",
    "                elementos_subjetivos_negativos.append(get_palabra(q))\n",
    "#print (elementos_subjetivos_negativos)\n",
    "\n",
    "palabras_features = palabrasMasComunes.most_common(40)\n",
    "array_for_training = [(word_feats_elementosSubjetivo(f[0]), classification(f[1])) for f in lista_comentarios_training]\n",
    "#classifier = MaxentClassifier.train(array_for_training, max_iter=10)\n",
    "print (array_for_training)\n",
    "\n",
    "\n"
   ]
  },
  {
   "cell_type": "code",
   "execution_count": null,
   "metadata": {
    "collapsed": true
   },
   "outputs": [],
   "source": []
  },
  {
   "cell_type": "code",
   "execution_count": null,
   "metadata": {
    "collapsed": true
   },
   "outputs": [],
   "source": []
  }
 ],
 "metadata": {
  "kernelspec": {
   "display_name": "Python 3",
   "language": "python",
   "name": "python3"
  },
  "language_info": {
   "codemirror_mode": {
    "name": "ipython",
    "version": 3
   },
   "file_extension": ".py",
   "mimetype": "text/x-python",
   "name": "python",
   "nbconvert_exporter": "python",
   "pygments_lexer": "ipython3",
   "version": "3.4.3"
  }
 },
 "nbformat": 4,
 "nbformat_minor": 0
}
